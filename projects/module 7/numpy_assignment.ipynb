{
 "cells": [
  {
   "cell_type": "markdown",
   "id": "a51e903c",
   "metadata": {},
   "source": [
    "# Numpy Assignment"
   ]
  },
  {
   "cell_type": "code",
   "execution_count": 1,
   "id": "5533da57",
   "metadata": {},
   "outputs": [],
   "source": [
    "import numpy as np"
   ]
  },
  {
   "cell_type": "code",
   "execution_count": null,
   "id": "3aa6f41c",
   "metadata": {},
   "outputs": [
    {
     "name": "stdout",
     "output_type": "stream",
     "text": [
      "Sum: 210, Mean: 10.5, Median: 10.5, Std Dev: 5.766281297335398\n",
      "Indices of elements greater than 10: [10 11 12 13 14 15 16 17 18 19]\n"
     ]
    }
   ],
   "source": [
    "# Q1\n",
    "np_arr = np.arange(1,21)\n",
    "\n",
    "arr_sum = np.sum(np_arr)\n",
    "arr_mean = np.mean(np_arr)\n",
    "arr_median = np.median(np_arr)\n",
    "arr_std = np.std(np_arr)\n",
    "\n",
    "print(f\"Sum: {arr_sum}, Mean: {arr_mean}, Median: {arr_median}, Std Dev: {arr_std}\")\n",
    "\n",
    "indices = np.where(np_arr > 10)[0]\n",
    "print(f\"Indices of elements greater than 10: {indices}\")"
   ]
  },
  {
   "cell_type": "code",
   "execution_count": null,
   "id": "a89cb86b",
   "metadata": {},
   "outputs": [
    {
     "name": "stdout",
     "output_type": "stream",
     "text": [
      "2D Array:\n",
      "[[ 1  2  3  4]\n",
      " [ 5  6  7  8]\n",
      " [ 9 10 11 12]\n",
      " [13 14 15 16]]\n",
      "\n",
      "Transposed Array:\n",
      "[[ 1  5  9 13]\n",
      " [ 2  6 10 14]\n",
      " [ 3  7 11 15]\n",
      " [ 4  8 12 16]]\n",
      "\n",
      "Row sums:\n",
      "[10 26 42 58]\n",
      "\n",
      "Column sums:\n",
      "[28 32 36 40]\n"
     ]
    }
   ],
   "source": [
    "# Q2\n",
    "np_arr_2 = np.arange(1,17).reshape(4, 4)\n",
    "print(\"2D Array:\")\n",
    "print(np_arr_2)\n",
    "\n",
    "np_arr_2_t = np_arr_2.T\n",
    "print(\"\\nTransposed Array:\")\n",
    "print(np_arr_2_t)\n",
    "\n",
    "row_sums = np.sum(np_arr_2, axis=1)\n",
    "print(\"\\nRow sums:\")\n",
    "print(row_sums)\n",
    "\n",
    "col_sums = np.sum(np_arr_2, axis=0)\n",
    "print(\"\\nColumn sums:\") \n",
    "print(col_sums)"
   ]
  },
  {
   "cell_type": "code",
   "execution_count": null,
   "id": "71e2c06f",
   "metadata": {},
   "outputs": [
    {
     "name": "stdout",
     "output_type": "stream",
     "text": [
      "\n",
      "Array 1:\n",
      " [[ 7 15 11]\n",
      " [ 8  7 19]\n",
      " [11 11  4]]\n",
      "\n",
      "Array 2:\n",
      " [[ 8  3  2]\n",
      " [12  6  2]\n",
      " [ 1 12 12]]\n",
      "\n",
      "Addition:\n",
      " [[15 18 13]\n",
      " [20 13 21]\n",
      " [12 23 16]]\n",
      "\n",
      "Subtraction:\n",
      " [[-1 12  9]\n",
      " [-4  1 17]\n",
      " [10 -1 -8]]\n",
      "\n",
      "Multiplication:\n",
      " [[ 56  45  22]\n",
      " [ 96  42  38]\n",
      " [ 11 132  48]]\n",
      "\n",
      "Dot Product:\n",
      " [[247 243 176]\n",
      " [167 294 258]\n",
      " [224 147  92]]\n"
     ]
    }
   ],
   "source": [
    "# Q3\n",
    "np.random.seed(42)  # For reproducibility\n",
    "arr1 = np.random.randint(1, 20, size=[3, 3])\n",
    "arr2 = np.random.randint(1, 20, size=[3, 3])\n",
    "print(\"\\nArray 1:\\n\", arr1)\n",
    "print(\"\\nArray 2:\\n\", arr2)\n",
    "\n",
    "add = arr1 + arr2\n",
    "sub = arr1 - arr2\n",
    "mul = arr1 * arr2\n",
    "print(\"\\nAddition:\\n\", add)\n",
    "print(\"\\nSubtraction:\\n\", sub)\n",
    "print(\"\\nMultiplication:\\n\", mul)\n",
    "\n",
    "dot = np.dot(arr1, arr2)\n",
    "print(\"\\nDot Product:\\n\", dot)"
   ]
  },
  {
   "cell_type": "code",
   "execution_count": null,
   "id": "ed287562",
   "metadata": {},
   "outputs": [
    {
     "name": "stdout",
     "output_type": "stream",
     "text": [
      "\n",
      "Original Array:\n",
      " [[ 0  1  2  3]\n",
      " [ 4  5  6  7]\n",
      " [ 8  9 10 11]]\n",
      "\n",
      "Sliced Array (first 2 rows, last 2 columns):\n",
      " [[2 3]\n",
      " [6 7]]\n"
     ]
    }
   ],
   "source": [
    "# Q4\n",
    "arr = np.arange(12).reshape(3, 4)\n",
    "print(\"\\nOriginal Array:\\n\", arr)\n",
    "\n",
    "sliced_arr = arr[:2, -2:]\n",
    "print(\"\\nSliced Array (first 2 rows, last 2 columns):\\n\", sliced_arr)"
   ]
  },
  {
   "cell_type": "code",
   "execution_count": null,
   "id": "62f14da2",
   "metadata": {},
   "outputs": [],
   "source": []
  }
 ],
 "metadata": {
  "kernelspec": {
   "display_name": ".venv",
   "language": "python",
   "name": "python3"
  },
  "language_info": {
   "codemirror_mode": {
    "name": "ipython",
    "version": 3
   },
   "file_extension": ".py",
   "mimetype": "text/x-python",
   "name": "python",
   "nbconvert_exporter": "python",
   "pygments_lexer": "ipython3",
   "version": "3.11.9"
  }
 },
 "nbformat": 4,
 "nbformat_minor": 5
}
